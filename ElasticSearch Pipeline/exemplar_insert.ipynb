{
  "nbformat": 4,
  "nbformat_minor": 0,
  "metadata": {
    "colab": {
      "name": "Untitled18.ipynb",
      "provenance": [],
      "collapsed_sections": []
    },
    "kernelspec": {
      "name": "python38364bittorchconda24d481ec414e417d83fd2b5049d6503b",
      "display_name": "Python 3.8.3 64-bit ('torch': conda)"
    },
    "accelerator": "GPU"
  },
  "cells": [
    {
      "cell_type": "code",
      "metadata": {
        "id": "HfkIY4XM_0CC",
        "colab_type": "code",
        "colab": {}
      },
      "source": [
        "import uuid\n",
        "import torch\n",
        "import requests\n",
        "import datetime\n",
        "import xmltodict\n",
        "import transformers\n",
        "import elasticsearch\n",
        "\n",
        "from bs4 import BeautifulSoup"
      ],
      "execution_count": 1,
      "outputs": []
    },
    {
      "cell_type": "code",
      "execution_count": 2,
      "metadata": {},
      "outputs": [],
      "source": [
        "es = elasticsearch.Elasticsearch()"
      ]
    },
    {
      "cell_type": "code",
      "metadata": {
        "id": "6Y1IKeP4U64z",
        "colab_type": "code",
        "colab": {},
        "tags": []
      },
      "source": [
        "device = torch.device(\"cuda\" if torch.cuda.is_available() else \"cpu\")\n",
        "\n",
        "model = transformers.T5ForConditionalGeneration.from_pretrained('t5-base').to(device)\n",
        "tokenizer = transformers.T5Tokenizer.from_pretrained('t5-base')\n",
        "\n",
        "def preprocess_text(url, tag):\n",
        "    response = requests.get(url)\n",
        "    content = response.content\n",
        "    soup_article = BeautifulSoup(content, \"html5lib\")\n",
        "    body = soup_article.find_all(tag, class_ = None)\n",
        "    s = \"\"\n",
        "    for i in body:\n",
        "        s+=i.text\n",
        "    return s\n",
        "\n",
        "def summarize(text):\n",
        "    t5_prep = \"summarize: \" + str(text).strip().replace(\"\\n\", \"\")\n",
        "    tokenized_text = tokenizer.encode(t5_prep, max_length = len(t5_prep), return_tensors = \"pt\", truncation = True).to(device)\n",
        "    summary_ids = model.generate(tokenized_text, num_beams = 4,\n",
        "                                 no_repeat_ngram_size = 2,\n",
        "                                 min_length = 120,\n",
        "                                 max_length = 350,\n",
        "                                 early_stopping = True)\n",
        "    output = tokenizer.decode(summary_ids[0].to(device), skip_special_tokens = True)\n",
        "    return output"
      ],
      "execution_count": 3,
      "outputs": [
        {
          "output_type": "stream",
          "name": "stderr",
          "text": "Some weights of T5ForConditionalGeneration were not initialized from the model checkpoint at t5-base and are newly initialized: ['encoder.embed_tokens.weight', 'decoder.embed_tokens.weight', 'lm_head.weight']\nYou should probably TRAIN this model on a down-stream task to be able to use it for predictions and inference.\n"
        }
      ]
    },
    {
      "cell_type": "code",
      "metadata": {
        "id": "qT0yAqPitOGb",
        "colab_type": "code",
        "colab": {},
        "tags": []
      },
      "source": [
        "maps = {\n",
        "    \"INDIA\":\n",
        "      \"https://timesofindia.indiatimes.com/rssfeeds/-2128936835.cms\",\n",
        "  \"WORLD\": \"https://timesofindia.indiatimes.com/rssfeeds/296589292.cms\",\n",
        "  \"NRI\": \"https://timesofindia.indiatimes.com/rssfeeds/7098551.cms\",\n",
        "  \"BUSINESS\": \"https://timesofindia.indiatimes.com/rssfeeds/1898055.cms\",\n",
        "  \"CRICKET\": \"https://timesofindia.indiatimes.com/rssfeeds/54829575.cms\",\n",
        "  \"SPORTS\": \"https://timesofindia.indiatimes.com/rssfeeds/4719148.cms\",\n",
        "  \"SCIENCE\":\n",
        "      \"http://timesofindia.indiatimes.com/rssfeeds/-2128672765.cms\",\n",
        "  \"ENVIRONMENT\":\n",
        "      \"http://timesofindia.indiatimes.com/rssfeeds/2647163.cms\",\n",
        "  \"TECH\": \"http://timesofindia.indiatimes.com/rssfeeds/66949542.cms\",\n",
        "  \"EDUCATION\":\n",
        "      \"http://timesofindia.indiatimes.com/rssfeeds/913168846.cms\",\n",
        "  \"ENTERTAINMENT\":\n",
        "      \"http://timesofindia.indiatimes.com/rssfeeds/1081479906.cms\",\n",
        "  \"LIFESTYLE\": \"http://timesofindia.indiatimes.com/rssfeeds/2886704.cms\",\n",
        "  \"ASTROLOGY\":\n",
        "      \"https://timesofindia.indiatimes.com/rssfeeds/65857041.cms\",\n",
        "  \"AUTO\": \"https://timesofindia.indiatimes.com/rssfeeds/74317216.cms\",\n",
        "  \"MUMBAI\":\n",
        "      \"http://timesofindia.indiatimes.com/rssfeeds/-2128838597.cms\",\n",
        "  \"DELHI\": \"http://timesofindia.indiatimes.com/rssfeeds/-2128839596.cms\",\n",
        "  \"BANGALORE\":\n",
        "      \"http://timesofindia.indiatimes.com/rssfeeds/-2128833038.cms\",\n",
        "  \"HYDERABAD\":\n",
        "      \"http://timesofindia.indiatimes.com/rssfeeds/-2128816011.cms\",\n",
        "  \"CHENNAI\": \"http://timesofindia.indiatimes.com/rssfeeds/2950623.cms\",\n",
        "  \"AHEMDABAD\":\n",
        "      \"http://timesofindia.indiatimes.com/rssfeeds/-2128821153.cms\",\n",
        "  \"ALLAHBAD\": \"http://timesofindia.indiatimes.com/rssfeeds/3947060.cms\",\n",
        "  \"BHUBANESHWAR\":\n",
        "      \"http://timesofindia.indiatimes.com/rssfeeds/4118235.cms\",\n",
        "  \"COIMBATORE\":\n",
        "      \"http://timesofindia.indiatimes.com/rssfeeds/7503091.cms\",\n",
        "  \"GURGAON\": \"http://timesofindia.indiatimes.com/rssfeeds/6547154.cms\",\n",
        "  \"GUWAHATI\": \"http://timesofindia.indiatimes.com/rssfeeds/4118215.cms\",\n",
        "  \"HUBLI\": \"http://timesofindia.indiatimes.com/rssfeeds/3942695.cms\",\n",
        "  \"KANPUR\": \"http://timesofindia.indiatimes.com/rssfeeds/3947067.cms\",\n",
        "  \"KOLKATA\":\n",
        "      \"http://timesofindia.indiatimes.com/rssfeeds/-2128830821.cms\",\n",
        "  \"LUDHIANA\": \"http://timesofindia.indiatimes.com/rssfeeds/3947051.cms\",\n",
        "  \"MANGALORE\": \"http://timesofindia.indiatimes.com/rssfeeds/3942690.cms\",\n",
        "  \"MYSORE\": \"http://timesofindia.indiatimes.com/rssfeeds/3942693.cms\",\n",
        "  \"NOIDA\": \"http://timesofindia.indiatimes.com/rssfeeds/8021716.cms\",\n",
        "  \"PUNE\": \"http://timesofindia.indiatimes.com/rssfeeds/-2128821991.cms\",\n",
        "  \"GOA\": \"http://timesofindia.indiatimes.com/rssfeeds/3012535.cms\",\n",
        "  \"CHANDIGARH\":\n",
        "      \"http://timesofindia.indiatimes.com/rssfeeds/-2128816762.cms\",\n",
        "  \"LUCKNOW\":\n",
        "      \"http://timesofindia.indiatimes.com/rssfeeds/-2128819658.cms\",\n",
        "  \"PATNA\": \"http://timesofindia.indiatimes.com/rssfeeds/-2128817995.cms\",\n",
        "  \"JAIPUR\": \"http://timesofindia.indiatimes.com/rssfeeds/3012544.cms\",\n",
        "  \"NAGPUR\": \"http://timesofindia.indiatimes.com/rssfeeds/442002.cms\",\n",
        "  \"RAJKOT\": \"http://timesofindia.indiatimes.com/rssfeeds/3942663.cms\",\n",
        "  \"RANCHI\": \"http://timesofindia.indiatimes.com/rssfeeds/4118245.cms\",\n",
        "  \"SURAT\": \"http://timesofindia.indiatimes.com/rssfeeds/3942660.cms\",\n",
        "  \"VADODARA\": \"http://timesofindia.indiatimes.com/rssfeeds/3942666.cms\",\n",
        "  \"VARANASI\": \"http://timesofindia.indiatimes.com/rssfeeds/3947071.cms\",\n",
        "  \"THANE\": \"http://timesofindia.indiatimes.com/rssfeeds/3831863.cms\",\n",
        "  \"THIRUVANANTHAPURAM\":\n",
        "      \"http://timesofindia.indiatimes.com/rssfeeds/878156304.cms\",\n",
        "  \"USA\": \"http://timesofindia.indiatimes.com/rssfeeds/30359486.cms\",\n",
        "  \"SOUTH_ASIA\":\n",
        "      \"http://timesofindia.indiatimes.com/rssfeeds/3907412.cms\",\n",
        "  \"UK\": \"http://timesofindia.indiatimes.com/rssfeeds/2177298.cms\",\n",
        "  \"EUROPE\": \"http://timesofindia.indiatimes.com/rssfeeds/1898274.cms\",\n",
        "  \"CHINA\": \"http://timesofindia.indiatimes.com/rssfeeds/1898184.cms\",\n",
        "  \"MIDDLE_EAST\":\n",
        "      \"http://timesofindia.indiatimes.com/rssfeeds/1898272.cms\",\n",
        "  \"REST_OF_WORLD\":\n",
        "      \"http://timesofindia.indiatimes.com/rssfeeds/671314.cms\"\n",
        "}"
      ],
      "execution_count": 4,
      "outputs": []
    },
    {
      "cell_type": "code",
      "execution_count": 5,
      "metadata": {},
      "outputs": [],
      "source": [
        "for key, value in maps.items():\n",
        "    maps[key] = {\"link\": value, \"lastPub\": datetime.datetime(2018, 9, 10, 6, 36, 43)}"
      ]
    },
    {
      "cell_type": "code",
      "metadata": {
        "id": "cVPR4JNMkTCY",
        "colab_type": "code",
        "colab": {
          "base_uri": "https://localhost:8080/",
          "height": 34
        },
        "outputId": "422c8d19-8d2d-43a1-ddad-afe81642d4be",
        "tags": []
      },
      "source": [
        "%%time\n",
        "for key, value in maps.items():\n",
        "  app = dict(xmltodict.parse(requests.get(value[\"link\"]).content.decode(\"utf-8\"))[\"rss\"].pop(\"channel\"))\n",
        "  time = value[\"lastPub\"]\n",
        "  for i in app[\"item\"]:\n",
        "    try:\n",
        "      item = dict(i)\n",
        "      item[\"pubDate\"] = datetime.datetime.strptime(\" \".join(item[\"pubDate\"].split()[1:-1]), \"%d %b %Y %X\")\n",
        "      if(item[\"pubDate\"] > value[\"lastPub\"]):\n",
        "        item[\"category\"] = key\n",
        "        item[\"archived\"] = False\n",
        "        item.pop(\"guid\")\n",
        "        # Comment the following line if not working with a GPU\n",
        "        item[\"summary\"] = summarize(preprocess_text(item[\"link\"], \"div\")) + \".......\"\n",
        "\n",
        "        es.index(index = \"news\", doc_type = \"news-obj\", id = uuid.uuid1(), body = item)\n",
        "        if(item[\"pubDate\"] > time):\n",
        "          time = item[\"pubDate\"]\n",
        "\n",
        "      del item\n",
        "    except:\n",
        "      continue\n",
        "\n",
        "  \n",
        "  del app\n",
        "  maps[key][\"lastPub\"] = time\n",
        "  del time\n",
        "  break"
      ],
      "execution_count": 6,
      "outputs": [
        {
          "output_type": "stream",
          "name": "stdout",
          "text": "CPU times: user 2min 28s, sys: 4.89 s, total: 2min 33s\nWall time: 2min 2s\n"
        }
      ]
    },
    {
      "cell_type": "markdown",
      "metadata": {},
      "source": [
        "### Search Index using Queries"
      ]
    },
    {
      "cell_type": "code",
      "execution_count": 7,
      "metadata": {},
      "outputs": [
        {
          "output_type": "execute_result",
          "data": {
            "text/plain": "[{'title': 'Full text: India, China joint statement on LAC face-off after Jaishankar-Wang meet',\n  'description': '<a href=\"https://timesofindia.indiatimes.com/india/full-text-india-china-joint-statement-on-lac-face-off-after-jaishankar-wang-meet/articleshow/78050559.cms\"><img border=\"0\" hspace=\"10\" align=\"left\" style=\"margin-top:3px;margin-right:5px;\" src=\"https://timesofindia.indiatimes.com/photo/78050559.cms\" /></a>',\n  'link': 'https://timesofindia.indiatimes.com/india/full-text-india-china-joint-statement-on-lac-face-off-after-jaishankar-wang-meet/articleshow/78050559.cms',\n  'pubDate': '2020-09-11T07:07:34',\n  'category': 'INDIA',\n  'archived': False,\n  'summary': 'India and China agree on 5-point plan for resolving border standoff in eastern Ladakh. the two sides agreed to continue dialogue and communication through the Special Representative mechanism on the India-China border affairs (WMCC), should also continue its meetings. both ministers agreed that the border troops of both sides should continue their dialogue, quickly disengage, maintain proper distance and ease tensions. and that they should avoid any action that could escalate matters.  2020 Bennett, Coleman & Co. Ltd. All rights reserved. For more information versiuneversiune .......'},\n {'title': 'India, China agree on 5-point plan for resolving border standoff in eastern Ladakh',\n  'description': '<a href=\"https://timesofindia.indiatimes.com/india/india-china-agree-on-5-point-plan-for-resolving-border-standoff-in-eastern-ladakh/articleshow/78050458.cms\"><img border=\"0\" hspace=\"10\" align=\"left\" style=\"margin-top:3px;margin-right:5px;\" src=\"https://timesofindia.indiatimes.com/photo/78050458.cms\" /></a>India and China have agreed on a five-point plan for resolving the prolonged border face-off in eastern Ladakh that included abiding by all existing agreements and protocol on management of the frontier, maintaining peace and tranquility and avoiding any action that could escalate matters.',\n  'link': 'https://timesofindia.indiatimes.com/india/india-china-agree-on-5-point-plan-for-resolving-border-standoff-in-eastern-ladakh/articleshow/78050458.cms',\n  'pubDate': '2020-09-11T06:45:25',\n  'category': 'INDIA',\n  'archived': False,\n  'summary': 'India and China have agreed on a five-point plan for resolving the prolonged border face-off in eastern Ladakh. this included abiding by all existing agreements and protocol on management of the frontier, maintaining peace and tranquility and avoiding any action that could escalate matters. the two countries agreed to the plan during talks between external affairs minister S Jaishankar and his Chinese counterpart Wang Yi in Moscow on Thursday evening on the sidelines of an Shanghai Cooperation Organisation (SCO) meet. The joint statement was issued early on Friday -  .......'}]"
          },
          "metadata": {},
          "execution_count": 7
        }
      ],
      "source": [
        "# Sample response to broad search\n",
        "res = es.search(index = \"news\", body = {\"from\":0, \"size\":10, \"query\":{\"match_phrase\": {\"title\": \"India\"}}, \"sort\": {\n",
        "    \"pubDate\": {\n",
        "      \"order\": \"desc\"\n",
        "    }\n",
        "  }})[\"hits\"][\"hits\"]\n",
        "db = []\n",
        "for i in res:\n",
        "    db.append(i[\"_source\"])\n",
        "db"
      ]
    },
    {
      "cell_type": "code",
      "execution_count": 8,
      "metadata": {},
      "outputs": [
        {
          "output_type": "execute_result",
          "data": {
            "text/plain": "[{'title': 'Full text: India, China joint statement on LAC face-off after Jaishankar-Wang meet',\n  'description': '<a href=\"https://timesofindia.indiatimes.com/india/full-text-india-china-joint-statement-on-lac-face-off-after-jaishankar-wang-meet/articleshow/78050559.cms\"><img border=\"0\" hspace=\"10\" align=\"left\" style=\"margin-top:3px;margin-right:5px;\" src=\"https://timesofindia.indiatimes.com/photo/78050559.cms\" /></a>',\n  'link': 'https://timesofindia.indiatimes.com/india/full-text-india-china-joint-statement-on-lac-face-off-after-jaishankar-wang-meet/articleshow/78050559.cms',\n  'pubDate': '2020-09-11T07:07:34',\n  'category': 'INDIA',\n  'archived': False,\n  'summary': 'India and China agree on 5-point plan for resolving border standoff in eastern Ladakh. the two sides agreed to continue dialogue and communication through the Special Representative mechanism on the India-China border affairs (WMCC), should also continue its meetings. both ministers agreed that the border troops of both sides should continue their dialogue, quickly disengage, maintain proper distance and ease tensions. and that they should avoid any action that could escalate matters.  2020 Bennett, Coleman & Co. Ltd. All rights reserved. For more information versiuneversiune .......'},\n {'title': 'US polls: Don’t use BJP’s name, members told',\n  'description': None,\n  'link': 'https://timesofindia.indiatimes.com/india/us-polls-dont-use-bjps-name-members-told/articleshow/78050516.cms',\n  'pubDate': '2020-09-11T06:54:44',\n  'category': 'INDIA',\n  'archived': False,\n  'summary': \"BJP has asked its members not to use the party’s name in the forthcoming US presidential polls. both the Republicans and Democrats are eyeing the Indian community, which constitutes just 1% of the US electorate, according to a directive from its foreign affairs department head, Vijay Chauthaiwale, who heads the 'overseas Friends' ofBJP-USA - tnn  | Sep 11, 2020, 06:54 ISTNEW DELHI: Ass\\xad\\xad \\xad-\\xad.......\"},\n {'title': '‘EPFO will try to pay interest of 8.5% at one go’',\n  'description': None,\n  'link': 'https://timesofindia.indiatimes.com/india/epfo-will-try-to-pay-interest-of-8-5-at-one-go/articleshow/78050500.cms',\n  'pubDate': '2020-09-11T06:51:03',\n  'category': 'INDIA',\n  'archived': False,\n  'summary': \"'EPFO' to pay 8.5% interest to its subscribers for 2019-20 at one go. the latest view comes after the central board of trustees of the fund met on Wednesday and decided to recommend to the finance ministry that the interest rate should be paid in two tranches due to a shortfall in its income from the Covid-19 pandemic and its impact on the financial markets, sources said. EPFO is banking on an improvement in the economic markets for better returns on its investments, according to sources. DownloadThe Times of India News  -.......\"},\n {'title': 'Turned away by 2 hospitals, doctor dies',\n  'description': None,\n  'link': 'https://timesofindia.indiatimes.com/india/turned-away-by-2-hospitals-doctor-dies/articleshow/78050480.cms',\n  'pubDate': '2020-09-11T06:48:14',\n  'category': 'INDIA',\n  'archived': False,\n  'summary': \"a 45-year-old Ayurvedic doctor in Maharashtra’s Yavatmal died of cardiac arrest early Thursday after being turned away by two private hospitals. the first hospital wouldn’t admit him on suspicion that he had Covid while the other one claimed it didn't have any non-Covid bed - despite the fact that the doctor died in the hospital on tuesday morning at 6:48 p.m. ISTNEW DELHI: A doctor who was \\xad   .......\"},\n {'title': 'India, China agree on 5-point plan for resolving border standoff in eastern Ladakh',\n  'description': '<a href=\"https://timesofindia.indiatimes.com/india/india-china-agree-on-5-point-plan-for-resolving-border-standoff-in-eastern-ladakh/articleshow/78050458.cms\"><img border=\"0\" hspace=\"10\" align=\"left\" style=\"margin-top:3px;margin-right:5px;\" src=\"https://timesofindia.indiatimes.com/photo/78050458.cms\" /></a>India and China have agreed on a five-point plan for resolving the prolonged border face-off in eastern Ladakh that included abiding by all existing agreements and protocol on management of the frontier, maintaining peace and tranquility and avoiding any action that could escalate matters.',\n  'link': 'https://timesofindia.indiatimes.com/india/india-china-agree-on-5-point-plan-for-resolving-border-standoff-in-eastern-ladakh/articleshow/78050458.cms',\n  'pubDate': '2020-09-11T06:45:25',\n  'category': 'INDIA',\n  'archived': False,\n  'summary': 'India and China have agreed on a five-point plan for resolving the prolonged border face-off in eastern Ladakh. this included abiding by all existing agreements and protocol on management of the frontier, maintaining peace and tranquility and avoiding any action that could escalate matters. the two countries agreed to the plan during talks between external affairs minister S Jaishankar and his Chinese counterpart Wang Yi in Moscow on Thursday evening on the sidelines of an Shanghai Cooperation Organisation (SCO) meet. The joint statement was issued early on Friday -  .......'},\n {'title': 'Serum pauses trials of Oxford vaccine after DCGI’s notice',\n  'description': '<a href=\"https://timesofindia.indiatimes.com/india/serum-pauses-trials-of-oxford-vaccine-after-dcgis-notice/articleshow/78050425.cms\"><img border=\"0\" hspace=\"10\" align=\"left\" style=\"margin-top:3px;margin-right:5px;\" src=\"https://timesofindia.indiatimes.com/photo/78050425.cms\" /></a>',\n  'link': 'https://timesofindia.indiatimes.com/india/serum-pauses-trials-of-oxford-vaccine-after-dcgis-notice/articleshow/78050425.cms',\n  'pubDate': '2020-09-11T06:33:18',\n  'category': 'INDIA',\n  'archived': False,\n  'summary': \"Serum Institute of India paused trials of covishield, Oxford University-AstraZeneca’s Covid-19 vaccine candidate, following a notice issued by the central drug regulator. 'we are reviewing the situation and pausing India trials till... Astrazenergy restarts them,' the Pune-based company said - following the DCGI's instructions & not able to comment further on the matter. the vaccine manufacturer had not informed the regulator about the issues faced by pharma   versiune .......\"},\n {'title': 'Guruvayur temple opens for darshan',\n  'description': None,\n  'link': 'https://timesofindia.indiatimes.com/india/guruvayur-temple-opens-for-darshan/articleshow/78050397.cms',\n  'pubDate': '2020-09-11T06:28:15',\n  'category': 'INDIA',\n  'archived': False,\n  'summary': \"Thrissur’s Guruvayur Sri Krishna temple has now decided to permit 1,000 devotees each day. the temple was remaining locked for almost six months, following the Covid-19 lockdown, and is now open for darshan from the Ashtami Rohini day, celebrated as the birthday of Lord Krishna, on thursday, september 11, 2020, 06:28 ISTNEW DELHI: Devotee's were permitted to have the event on the eve of the festival  .......\"},\n {'title': 'Highest one-day Covid-19 deaths take toll past 75,000',\n  'description': '<a href=\"https://timesofindia.indiatimes.com/india/highest-one-day-covid-19-deaths-take-toll-past-75000/articleshow/78050375.cms\"><img border=\"0\" hspace=\"10\" align=\"left\" style=\"margin-top:3px;margin-right:5px;\" src=\"https://timesofindia.indiatimes.com/photo/78050375.cms\" /></a>',\n  'link': 'https://timesofindia.indiatimes.com/india/highest-one-day-covid-19-deaths-take-toll-past-75000/articleshow/78050375.cms',\n  'pubDate': '2020-09-11T06:24:22',\n  'category': 'INDIA',\n  'archived': False,\n  'summary': \"India's death toll from the pandemic has risen from 50,000 to 75,000 in just 26 days, averaging around 1,000 fatalities per day during this period. 96,084 new cases were reported, the second highest single-day surge so far after the previous day’s tally of 97,399, as per toi 'data collated from state governments' Maharashtra added 23,446 cases on Thursday, accounting for more than 38% of all virus-related deaths in the country -   .......\"},\n {'title': 'Ayodhya Ram temple trust defrauded of Rs 6 lakh via cloned cheques',\n  'description': None,\n  'link': 'https://timesofindia.indiatimes.com/india/ayodhya-ram-temple-trust-defrauded-of-rs-6-lakh-via-cloned-cheques/articleshow/78050344.cms',\n  'pubDate': '2020-09-11T06:15:26',\n  'category': 'INDIA',\n  'archived': False,\n  'summary': 'a fake online gateway has been created in the trust’s name to pilfer public donations to build the Ram temple. the fraud was quickly detected and the gateway frozen, and an FIR was lodged at the Ayodhya police station on Thursday morning. police teams have been dispatched to Lucknow and Mumbai to crack the case, according to TOI. DownloadThe Times of india News App for Latest India Newsfrom times of indian newsCoronavirus NewsUS Presidential ElectionUS NewsPakistan NewsDon   gra .......'},\n {'title': 'ED brings Deepak Kochhar to Delhi for interrogation',\n  'description': '<a href=\"https://timesofindia.indiatimes.com/india/ed-brings-deepak-kochhar-to-delhi-for-interrogation/articleshow/78050333.cms\"><img border=\"0\" hspace=\"10\" align=\"left\" style=\"margin-top:3px;margin-right:5px;\" src=\"https://timesofindia.indiatimes.com/photo/78050333.cms\" /></a>',\n  'link': 'https://timesofindia.indiatimes.com/india/ed-brings-deepak-kochhar-to-delhi-for-interrogation/articleshow/78050333.cms',\n  'pubDate': '2020-09-11T06:13:34',\n  'category': 'INDIA',\n  'archived': False,\n  'summary': 'a special court in Mumbai remanded him to ED custody till September 19 in view of fresh evidence gathered by the agency and for his refusal to cooperate with the investigative team. the promoter of nupower renewables, Deepak Kochhar, was arrested on Monday by an ed team for being evasive during questioning in the recent past. he has been kept along with hawala dealer Naresh Jain, who is currently in custody. videocon chairman Venugopal Dh gragra .......'}]"
          },
          "metadata": {},
          "execution_count": 8
        }
      ],
      "source": [
        "# Sample response to category search\n",
        "res = es.search(index = \"news\", body = {\"from\":0, \"size\":10, \"query\":{\"match\": {\"category\": \"India\"}}, \"sort\": {\n",
        "    \"pubDate\": {\n",
        "      \"order\": \"desc\"\n",
        "    }\n",
        "  }})[\"hits\"][\"hits\"]\n",
        "db = []\n",
        "for i in res:\n",
        "    db.append(i[\"_source\"])\n",
        "db"
      ]
    },
    {
      "cell_type": "code",
      "execution_count": null,
      "metadata": {},
      "outputs": [],
      "source": [
        "es.indices.delete(index = \"news\")"
      ]
    }
  ]
}