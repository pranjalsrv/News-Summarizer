{
  "nbformat": 4,
  "nbformat_minor": 0,
  "metadata": {
    "colab": {
      "name": "Untitled18.ipynb",
      "provenance": [],
      "collapsed_sections": []
    },
    "kernelspec": {
      "name": "python38364bittorchconda24d481ec414e417d83fd2b5049d6503b",
      "display_name": "Python 3.8.3 64-bit ('torch': conda)"
    },
    "accelerator": "GPU"
  },
  "cells": [
    {
      "cell_type": "code",
      "metadata": {
        "id": "HfkIY4XM_0CC",
        "colab_type": "code",
        "colab": {}
      },
      "source": [
        "import uuid\n",
        "import torch\n",
        "import requests\n",
        "import datetime\n",
        "import xmltodict\n",
        "import transformers\n",
        "import elasticsearch\n",
        "\n",
        "from tqdm import tqdm\n",
        "from bs4 import BeautifulSoup"
      ],
      "execution_count": 1,
      "outputs": []
    },
    {
      "cell_type": "code",
      "execution_count": 2,
      "metadata": {},
      "outputs": [],
      "source": [
        "es = elasticsearch.Elasticsearch()"
      ]
    },
    {
      "cell_type": "code",
      "metadata": {
        "id": "6Y1IKeP4U64z",
        "colab_type": "code",
        "colab": {},
        "tags": []
      },
      "source": [
        "device = torch.device(\"cuda\" if torch.cuda.is_available() else \"cpu\")\n",
        "\n",
        "model = transformers.T5ForConditionalGeneration.from_pretrained('t5-base').to(device)\n",
        "tokenizer = transformers.T5Tokenizer.from_pretrained('t5-base')\n",
        "\n",
        "def preprocess_text(url, tag):\n",
        "    response = requests.get(url)\n",
        "    content = response.content\n",
        "    soup_article = BeautifulSoup(content, \"html5lib\")\n",
        "    body = soup_article.find_all(tag, class_ = None)\n",
        "    s = \"\"\n",
        "    for i in body:\n",
        "        s+=i.text\n",
        "    return s\n",
        "\n",
        "def summarize(text):\n",
        "    t5_prep = \"summarize: \" + str(text).strip().replace(\"\\n\", \"\")\n",
        "    tokenized_text = tokenizer.encode(t5_prep, max_length = len(t5_prep), return_tensors = \"pt\", truncation = True).to(device)\n",
        "    summary_ids = model.generate(tokenized_text, num_beams = 4,\n",
        "                                 no_repeat_ngram_size = 2,\n",
        "                                 min_length = 120,\n",
        "                                 max_length = 350,\n",
        "                                 early_stopping = True)\n",
        "    output = tokenizer.decode(summary_ids[0].to(device), skip_special_tokens = True)\n",
        "    return output"
      ],
      "execution_count": 3,
      "outputs": [
        {
          "output_type": "stream",
          "name": "stderr",
          "text": "Some weights of T5ForConditionalGeneration were not initialized from the model checkpoint at t5-base and are newly initialized: ['encoder.embed_tokens.weight', 'decoder.embed_tokens.weight', 'lm_head.weight']\nYou should probably TRAIN this model on a down-stream task to be able to use it for predictions and inference.\n"
        }
      ]
    },
    {
      "cell_type": "code",
      "metadata": {
        "id": "qT0yAqPitOGb",
        "colab_type": "code",
        "colab": {},
        "tags": []
      },
      "source": [
        "maps = {\n",
        "    \"INDIA\":\n",
        "      \"https://timesofindia.indiatimes.com/rssfeeds/-2128936835.cms\",\n",
        "  \"WORLD\": \"https://timesofindia.indiatimes.com/rssfeeds/296589292.cms\",\n",
        "  \"NRI\": \"https://timesofindia.indiatimes.com/rssfeeds/7098551.cms\",\n",
        "  \"BUSINESS\": \"https://timesofindia.indiatimes.com/rssfeeds/1898055.cms\",\n",
        "  \"CRICKET\": \"https://timesofindia.indiatimes.com/rssfeeds/54829575.cms\",\n",
        "  \"SPORTS\": \"https://timesofindia.indiatimes.com/rssfeeds/4719148.cms\",\n",
        "  \"SCIENCE\":\n",
        "      \"http://timesofindia.indiatimes.com/rssfeeds/-2128672765.cms\",\n",
        "  \"ENVIRONMENT\":\n",
        "      \"http://timesofindia.indiatimes.com/rssfeeds/2647163.cms\",\n",
        "  \"TECH\": \"http://timesofindia.indiatimes.com/rssfeeds/66949542.cms\",\n",
        "  \"EDUCATION\":\n",
        "      \"http://timesofindia.indiatimes.com/rssfeeds/913168846.cms\",\n",
        "  \"ENTERTAINMENT\":\n",
        "      \"http://timesofindia.indiatimes.com/rssfeeds/1081479906.cms\",\n",
        "  \"LIFESTYLE\": \"http://timesofindia.indiatimes.com/rssfeeds/2886704.cms\",\n",
        "  \"ASTROLOGY\":\n",
        "      \"https://timesofindia.indiatimes.com/rssfeeds/65857041.cms\",\n",
        "  \"AUTO\": \"https://timesofindia.indiatimes.com/rssfeeds/74317216.cms\",\n",
        "  \"MUMBAI\":\n",
        "      \"http://timesofindia.indiatimes.com/rssfeeds/-2128838597.cms\",\n",
        "  \"DELHI\": \"http://timesofindia.indiatimes.com/rssfeeds/-2128839596.cms\",\n",
        "  \"BANGALORE\":\n",
        "      \"http://timesofindia.indiatimes.com/rssfeeds/-2128833038.cms\",\n",
        "  \"HYDERABAD\":\n",
        "      \"http://timesofindia.indiatimes.com/rssfeeds/-2128816011.cms\",\n",
        "  \"CHENNAI\": \"http://timesofindia.indiatimes.com/rssfeeds/2950623.cms\",\n",
        "  \"AHEMDABAD\":\n",
        "      \"http://timesofindia.indiatimes.com/rssfeeds/-2128821153.cms\",\n",
        "  \"ALLAHBAD\": \"http://timesofindia.indiatimes.com/rssfeeds/3947060.cms\",\n",
        "  \"BHUBANESHWAR\":\n",
        "      \"http://timesofindia.indiatimes.com/rssfeeds/4118235.cms\",\n",
        "  \"COIMBATORE\":\n",
        "      \"http://timesofindia.indiatimes.com/rssfeeds/7503091.cms\",\n",
        "  \"GURGAON\": \"http://timesofindia.indiatimes.com/rssfeeds/6547154.cms\",\n",
        "  \"GUWAHATI\": \"http://timesofindia.indiatimes.com/rssfeeds/4118215.cms\",\n",
        "  \"HUBLI\": \"http://timesofindia.indiatimes.com/rssfeeds/3942695.cms\",\n",
        "  \"KANPUR\": \"http://timesofindia.indiatimes.com/rssfeeds/3947067.cms\",\n",
        "  \"KOLKATA\":\n",
        "      \"http://timesofindia.indiatimes.com/rssfeeds/-2128830821.cms\",\n",
        "  \"LUDHIANA\": \"http://timesofindia.indiatimes.com/rssfeeds/3947051.cms\",\n",
        "  \"MANGALORE\": \"http://timesofindia.indiatimes.com/rssfeeds/3942690.cms\",\n",
        "  \"MYSORE\": \"http://timesofindia.indiatimes.com/rssfeeds/3942693.cms\",\n",
        "  \"NOIDA\": \"http://timesofindia.indiatimes.com/rssfeeds/8021716.cms\",\n",
        "  \"PUNE\": \"http://timesofindia.indiatimes.com/rssfeeds/-2128821991.cms\",\n",
        "  \"GOA\": \"http://timesofindia.indiatimes.com/rssfeeds/3012535.cms\",\n",
        "  \"CHANDIGARH\":\n",
        "      \"http://timesofindia.indiatimes.com/rssfeeds/-2128816762.cms\",\n",
        "  \"LUCKNOW\":\n",
        "      \"http://timesofindia.indiatimes.com/rssfeeds/-2128819658.cms\",\n",
        "  \"PATNA\": \"http://timesofindia.indiatimes.com/rssfeeds/-2128817995.cms\",\n",
        "  \"JAIPUR\": \"http://timesofindia.indiatimes.com/rssfeeds/3012544.cms\",\n",
        "  \"NAGPUR\": \"http://timesofindia.indiatimes.com/rssfeeds/442002.cms\",\n",
        "  \"RAJKOT\": \"http://timesofindia.indiatimes.com/rssfeeds/3942663.cms\",\n",
        "  \"RANCHI\": \"http://timesofindia.indiatimes.com/rssfeeds/4118245.cms\",\n",
        "  \"SURAT\": \"http://timesofindia.indiatimes.com/rssfeeds/3942660.cms\",\n",
        "  \"VADODARA\": \"http://timesofindia.indiatimes.com/rssfeeds/3942666.cms\",\n",
        "  \"VARANASI\": \"http://timesofindia.indiatimes.com/rssfeeds/3947071.cms\",\n",
        "  \"THANE\": \"http://timesofindia.indiatimes.com/rssfeeds/3831863.cms\",\n",
        "  \"THIRUVANANTHAPURAM\":\n",
        "      \"http://timesofindia.indiatimes.com/rssfeeds/878156304.cms\",\n",
        "  \"USA\": \"http://timesofindia.indiatimes.com/rssfeeds/30359486.cms\",\n",
        "  \"SOUTH_ASIA\":\n",
        "      \"http://timesofindia.indiatimes.com/rssfeeds/3907412.cms\",\n",
        "  \"UK\": \"http://timesofindia.indiatimes.com/rssfeeds/2177298.cms\",\n",
        "  \"EUROPE\": \"http://timesofindia.indiatimes.com/rssfeeds/1898274.cms\",\n",
        "  \"CHINA\": \"http://timesofindia.indiatimes.com/rssfeeds/1898184.cms\",\n",
        "  \"MIDDLE_EAST\":\n",
        "      \"http://timesofindia.indiatimes.com/rssfeeds/1898272.cms\",\n",
        "  \"REST_OF_WORLD\":\n",
        "      \"http://timesofindia.indiatimes.com/rssfeeds/671314.cms\"\n",
        "}"
      ],
      "execution_count": 6,
      "outputs": [
        {
          "output_type": "stream",
          "name": "stdout",
          "text": "CPU times: user 30 µs, sys: 2 µs, total: 32 µs\nWall time: 41 µs\n"
        }
      ]
    },
    {
      "cell_type": "code",
      "metadata": {
        "id": "cVPR4JNMkTCY",
        "colab_type": "code",
        "colab": {
          "base_uri": "https://localhost:8080/",
          "height": 34
        },
        "outputId": "422c8d19-8d2d-43a1-ddad-afe81642d4be",
        "tags": []
      },
      "source": [
        "%%time\n",
        "for key, value in maps.items():\n",
        "  app = dict(xmltodict.parse(requests.get(value).content.decode(\"utf-8\"))[\"rss\"].pop(\"channel\"))\n",
        "  # time = datetime.datetime(2018, 9, 10, 6, 36, 43) # when loading again we will load from db the latest time\n",
        "  for i in app[\"item\"]:\n",
        "    try:\n",
        "      item = dict(i)\n",
        "      item[\"pubDate\"] = datetime.datetime.strptime(\" \".join(item[\"pubDate\"].split()[1:-1]), \"%d %b %Y %X\")\n",
        "      item[\"category\"] = key\n",
        "      item[\"archived\"] = False\n",
        "      item.pop(\"guid\")\n",
        "      # Comment the following line if not working with a GPU\n",
        "      item[\"summary\"] = summarize(preprocess_text(item[\"link\"], \"div\")) + \".......\"\n",
        "\n",
        "      es.index(index = \"news\", doc_type = \"news-obj\", id = uuid.uuid1(), body = item)\n",
        "\n",
        "      # TODO: Control Logic for time append, when we do have last updated times for each category in our maps dict, we will say if item[\"pubDate\"] > maps[category][\"time\"] then append\n",
        "      \n",
        "      # if(item[\"pubDate\"] > time):\n",
        "        # time = item[\"pubDate\"]\n",
        "      del item\n",
        "    except:\n",
        "      continue\n",
        "\n",
        "  \n",
        "  del app\n",
        "  break\n",
        "  # maps[key] = {\"link\": value, \"last_pub\":time}\n",
        "  # del time"
      ],
      "execution_count": 5,
      "outputs": [
        {
          "output_type": "stream",
          "name": "stderr",
          "text": "0%|          | 0/53 [02:53<?, ?it/s]\n"
        }
      ]
    },
    {
      "cell_type": "markdown",
      "metadata": {},
      "source": [
        "### Search Index using Queries"
      ]
    },
    {
      "cell_type": "code",
      "execution_count": 13,
      "metadata": {},
      "outputs": [
        {
          "output_type": "execute_result",
          "data": {
            "text/plain": "[{'title': 'To counter China, India inks military pact with Japan',\n  'description': '<a href=\"https://timesofindia.indiatimes.com/india/to-counter-china-india-inks-military-pact-with-japan/articleshow/78049864.cms\"><img border=\"0\" hspace=\"10\" align=\"left\" style=\"margin-top:3px;margin-right:5px;\" src=\"https://timesofindia.indiatimes.com/photo/78049864.cms\" /></a>Japan has now become the sixth country, after the US, France, Australia, South Korea and Singapore, with which India has such an agreement to enable military forces to share logistics to support each other’s warships and aircraft as well as bolster overall interoperability and defence cooperation.',\n  'link': 'https://timesofindia.indiatimes.com/india/to-counter-china-india-inks-military-pact-with-japan/articleshow/78049864.cms',\n  'pubDate': '2020-09-11T04:40:27',\n  'category': 'INDIA',\n  'archived': False,\n  'summary': 'India is clinching reciprocal military logistics pacts with friendly countries to counter China’s expanding footprint across the Indo-Pacific region. the mutual logistics support arrangement (MLSA) inked with Australia in June will help Indian warships in southern Indian Ocean and western Pacific region. china is actively looking to set up military logistic facilities in Myanmar, Thailand, Singapore, Indonesia, Pakistan, Seychelles, Tanzania, Angola and Tajikistan, as reported by TOI. DownloadThe Times of India News App for Latest News from  gragra'},\n {'title': 'India working with neighbours to boost NE infra: Harsh Shringla',\n  'description': '<a href=\"https://timesofindia.indiatimes.com/india/india-working-with-neighbours-to-boost-ne-infra-harsh-shringla/articleshow/78049965.cms\"><img border=\"0\" hspace=\"10\" align=\"left\" style=\"margin-top:3px;margin-right:5px;\" src=\"https://timesofindia.indiatimes.com/photo/78049965.cms\" /></a>',\n  'link': 'https://timesofindia.indiatimes.com/india/india-working-with-neighbours-to-boost-ne-infra-harsh-shringla/articleshow/78049965.cms',\n  'pubDate': '2020-09-11T04:56:01',\n  'category': 'INDIA',\n  'archived': False,\n  'summary': '\\'we have a vision for this region that is captured in the 3 Cs — connectivity, commerce, and cultural commonalities,\\' said foreign secretary. he said India and other friendly countries like Japan had taken up projects for economic modernisation of the north-east, while also facilitating greater regional integration. \"we are working with neighbours to improve infrastructure and connectivity in this area,\" said Shringla, addressing an event on tuesday. “Under this initiative, several projects are currently ongoing in '}]"
          },
          "metadata": {},
          "execution_count": 13
        }
      ],
      "source": [
        "# Sample response to broad search\n",
        "res = es.search(index = \"news\", body = {\"from\":0, \"size\":10, \"query\":{\"match_phrase\": {\"title\": \"India\"}}})[\"hits\"][\"hits\"]\n",
        "db = []\n",
        "for i in res:\n",
        "    db.append(i[\"_source\"])\n",
        "db"
      ]
    },
    {
      "cell_type": "code",
      "execution_count": null,
      "metadata": {},
      "outputs": [],
      "source": [
        "es.indices.delete(index = \"news\")"
      ]
    }
  ]
}