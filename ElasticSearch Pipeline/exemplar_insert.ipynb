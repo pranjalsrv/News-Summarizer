{
  "nbformat": 4,
  "nbformat_minor": 0,
  "metadata": {
    "colab": {
      "name": "Untitled18.ipynb",
      "provenance": [],
      "collapsed_sections": []
    },
    "kernelspec": {
      "name": "python38364bittorchconda24d481ec414e417d83fd2b5049d6503b",
      "display_name": "Python 3.8.3 64-bit ('torch': conda)"
    },
    "accelerator": "GPU"
  },
  "cells": [
    {
      "cell_type": "code",
      "metadata": {
        "id": "HfkIY4XM_0CC",
        "colab_type": "code",
        "colab": {}
      },
      "source": [
        "import uuid\n",
        "import torch\n",
        "import requests\n",
        "import datetime\n",
        "import xmltodict\n",
        "import transformers\n",
        "import elasticsearch\n",
        "\n",
        "from tqdm import tqdm\n",
        "from bs4 import BeautifulSoup"
      ],
      "execution_count": 1,
      "outputs": []
    },
    {
      "cell_type": "code",
      "execution_count": 2,
      "metadata": {},
      "outputs": [],
      "source": [
        "es = elasticsearch.Elasticsearch()"
      ]
    },
    {
      "cell_type": "code",
      "metadata": {
        "id": "6Y1IKeP4U64z",
        "colab_type": "code",
        "colab": {},
        "tags": []
      },
      "source": [
        "device = torch.device(\"cuda\" if torch.cuda.is_available() else \"cpu\")\n",
        "\n",
        "model = transformers.T5ForConditionalGeneration.from_pretrained('t5-base').to(device)\n",
        "tokenizer = transformers.T5Tokenizer.from_pretrained('t5-base')\n",
        "\n",
        "def preprocess_text(url, tag):\n",
        "    response = requests.get(url)\n",
        "    content = response.content\n",
        "    soup_article = BeautifulSoup(content, \"html5lib\")\n",
        "    body = soup_article.find_all(tag, class_ = None)\n",
        "    s = \"\"\n",
        "    for i in body:\n",
        "        s+=i.text\n",
        "    return s\n",
        "\n",
        "def summarize(text):\n",
        "    t5_prep = \"summarize: \" + str(text).strip().replace(\"\\n\", \"\")\n",
        "    tokenized_text = tokenizer.encode(t5_prep, max_length = len(t5_prep), return_tensors = \"pt\", truncation = True).to(device)\n",
        "    summary_ids = model.generate(tokenized_text, num_beams = 4,\n",
        "                                 no_repeat_ngram_size = 2,\n",
        "                                 min_length = 120,\n",
        "                                 max_length = 350,\n",
        "                                 early_stopping = True)\n",
        "    output = tokenizer.decode(summary_ids[0].to(device), skip_special_tokens = True)\n",
        "    return output"
      ],
      "execution_count": 3,
      "outputs": [
        {
          "output_type": "stream",
          "name": "stderr",
          "text": "Some weights of T5ForConditionalGeneration were not initialized from the model checkpoint at t5-base and are newly initialized: ['encoder.embed_tokens.weight', 'decoder.embed_tokens.weight', 'lm_head.weight']\nYou should probably TRAIN this model on a down-stream task to be able to use it for predictions and inference.\n"
        }
      ]
    },
    {
      "cell_type": "code",
      "metadata": {
        "id": "qT0yAqPitOGb",
        "colab_type": "code",
        "colab": {}
      },
      "source": [
        "maps = {\n",
        "    \"INDIA\":\n",
        "      \"https://timesofindia.indiatimes.com/rssfeeds/-2128936835.cms\",\n",
        "  \"WORLD\": \"https://timesofindia.indiatimes.com/rssfeeds/296589292.cms\",\n",
        "  \"NRI\": \"https://timesofindia.indiatimes.com/rssfeeds/7098551.cms\",\n",
        "  \"BUSINESS\": \"https://timesofindia.indiatimes.com/rssfeeds/1898055.cms\",\n",
        "  \"CRICKET\": \"https://timesofindia.indiatimes.com/rssfeeds/54829575.cms\",\n",
        "  \"SPORTS\": \"https://timesofindia.indiatimes.com/rssfeeds/4719148.cms\",\n",
        "  \"SCIENCE\":\n",
        "      \"http://timesofindia.indiatimes.com/rssfeeds/-2128672765.cms\",\n",
        "  \"ENVIRONMENT\":\n",
        "      \"http://timesofindia.indiatimes.com/rssfeeds/2647163.cms\",\n",
        "  \"TECH\": \"http://timesofindia.indiatimes.com/rssfeeds/66949542.cms\",\n",
        "  \"EDUCATION\":\n",
        "      \"http://timesofindia.indiatimes.com/rssfeeds/913168846.cms\",\n",
        "  \"ENTERTAINMENT\":\n",
        "      \"http://timesofindia.indiatimes.com/rssfeeds/1081479906.cms\",\n",
        "  \"LIFESTYLE\": \"http://timesofindia.indiatimes.com/rssfeeds/2886704.cms\",\n",
        "  \"ASTROLOGY\":\n",
        "      \"https://timesofindia.indiatimes.com/rssfeeds/65857041.cms\",\n",
        "  \"AUTO\": \"https://timesofindia.indiatimes.com/rssfeeds/74317216.cms\",\n",
        "  \"MUMBAI\":\n",
        "      \"http://timesofindia.indiatimes.com/rssfeeds/-2128838597.cms\",\n",
        "  \"DELHI\": \"http://timesofindia.indiatimes.com/rssfeeds/-2128839596.cms\",\n",
        "  \"BANGALORE\":\n",
        "      \"http://timesofindia.indiatimes.com/rssfeeds/-2128833038.cms\",\n",
        "  \"HYDERABAD\":\n",
        "      \"http://timesofindia.indiatimes.com/rssfeeds/-2128816011.cms\",\n",
        "  \"CHENNAI\": \"http://timesofindia.indiatimes.com/rssfeeds/2950623.cms\",\n",
        "  \"AHEMDABAD\":\n",
        "      \"http://timesofindia.indiatimes.com/rssfeeds/-2128821153.cms\",\n",
        "  \"ALLAHBAD\": \"http://timesofindia.indiatimes.com/rssfeeds/3947060.cms\",\n",
        "  \"BHUBANESHWAR\":\n",
        "      \"http://timesofindia.indiatimes.com/rssfeeds/4118235.cms\",\n",
        "  \"COIMBATORE\":\n",
        "      \"http://timesofindia.indiatimes.com/rssfeeds/7503091.cms\",\n",
        "  \"GURGAON\": \"http://timesofindia.indiatimes.com/rssfeeds/6547154.cms\",\n",
        "  \"GUWAHATI\": \"http://timesofindia.indiatimes.com/rssfeeds/4118215.cms\",\n",
        "  \"HUBLI\": \"http://timesofindia.indiatimes.com/rssfeeds/3942695.cms\",\n",
        "  \"KANPUR\": \"http://timesofindia.indiatimes.com/rssfeeds/3947067.cms\",\n",
        "  \"KOLKATA\":\n",
        "      \"http://timesofindia.indiatimes.com/rssfeeds/-2128830821.cms\",\n",
        "  \"LUDHIANA\": \"http://timesofindia.indiatimes.com/rssfeeds/3947051.cms\",\n",
        "  \"MANGALORE\": \"http://timesofindia.indiatimes.com/rssfeeds/3942690.cms\",\n",
        "  \"MYSORE\": \"http://timesofindia.indiatimes.com/rssfeeds/3942693.cms\",\n",
        "  \"NOIDA\": \"http://timesofindia.indiatimes.com/rssfeeds/8021716.cms\",\n",
        "  \"PUNE\": \"http://timesofindia.indiatimes.com/rssfeeds/-2128821991.cms\",\n",
        "  \"GOA\": \"http://timesofindia.indiatimes.com/rssfeeds/3012535.cms\",\n",
        "  \"CHANDIGARH\":\n",
        "      \"http://timesofindia.indiatimes.com/rssfeeds/-2128816762.cms\",\n",
        "  \"LUCKNOW\":\n",
        "      \"http://timesofindia.indiatimes.com/rssfeeds/-2128819658.cms\",\n",
        "  \"PATNA\": \"http://timesofindia.indiatimes.com/rssfeeds/-2128817995.cms\",\n",
        "  \"JAIPUR\": \"http://timesofindia.indiatimes.com/rssfeeds/3012544.cms\",\n",
        "  \"NAGPUR\": \"http://timesofindia.indiatimes.com/rssfeeds/442002.cms\",\n",
        "  \"RAJKOT\": \"http://timesofindia.indiatimes.com/rssfeeds/3942663.cms\",\n",
        "  \"RANCHI\": \"http://timesofindia.indiatimes.com/rssfeeds/4118245.cms\",\n",
        "  \"SURAT\": \"http://timesofindia.indiatimes.com/rssfeeds/3942660.cms\",\n",
        "  \"VADODARA\": \"http://timesofindia.indiatimes.com/rssfeeds/3942666.cms\",\n",
        "  \"VARANASI\": \"http://timesofindia.indiatimes.com/rssfeeds/3947071.cms\",\n",
        "  \"THANE\": \"http://timesofindia.indiatimes.com/rssfeeds/3831863.cms\",\n",
        "  \"THIRUVANANTHAPURAM\":\n",
        "      \"http://timesofindia.indiatimes.com/rssfeeds/878156304.cms\",\n",
        "  \"USA\": \"http://timesofindia.indiatimes.com/rssfeeds/30359486.cms\",\n",
        "  \"SOUTH_ASIA\":\n",
        "      \"http://timesofindia.indiatimes.com/rssfeeds/3907412.cms\",\n",
        "  \"UK\": \"http://timesofindia.indiatimes.com/rssfeeds/2177298.cms\",\n",
        "  \"EUROPE\": \"http://timesofindia.indiatimes.com/rssfeeds/1898274.cms\",\n",
        "  \"CHINA\": \"http://timesofindia.indiatimes.com/rssfeeds/1898184.cms\",\n",
        "  \"MIDDLE_EAST\":\n",
        "      \"http://timesofindia.indiatimes.com/rssfeeds/1898272.cms\",\n",
        "  \"REST_OF_WORLD\":\n",
        "      \"http://timesofindia.indiatimes.com/rssfeeds/671314.cms\"\n",
        "}"
      ],
      "execution_count": 4,
      "outputs": []
    },
    {
      "cell_type": "code",
      "metadata": {
        "id": "cVPR4JNMkTCY",
        "colab_type": "code",
        "colab": {
          "base_uri": "https://localhost:8080/",
          "height": 34
        },
        "outputId": "422c8d19-8d2d-43a1-ddad-afe81642d4be",
        "tags": []
      },
      "source": [
        "for key, value in tqdm(maps.items()):\n",
        "  app = dict(xmltodict.parse(requests.get(value).content.decode(\"utf-8\"))[\"rss\"].pop(\"channel\"))\n",
        "  # time = datetime.datetime(2018, 9, 10, 6, 36, 43) # when loading again we will load from db the latest time\n",
        "  for i in app[\"item\"]:\n",
        "    try:\n",
        "      item = dict(i)\n",
        "      item[\"pubDate\"] = datetime.datetime.strptime(\" \".join(item[\"pubDate\"].split()[1:-1]), \"%d %b %Y %X\")\n",
        "      item[\"category\"] = key\n",
        "      item[\"archived\"] = False\n",
        "      item.pop(\"guid\")\n",
        "\n",
        "      es.index(index = \"news\", doc_type = \"news-obj\", id = uuid.uuid1(), body = item)\n",
        "\n",
        "      # Comment the following line if not working with a GPU\n",
        "      # item[\"summary\"] = summarize(preprocess_text(item[\"link\"], \"div\"))\n",
        "      # TODO: Control Logic for time append, when we do have last updated times for each category in our maps dict, we will say if item[\"pubDate\"] > maps[category][\"time\"] then append\n",
        "      \n",
        "      # if(item[\"pubDate\"] > time):\n",
        "        # time = item[\"pubDate\"]\n",
        "      del item\n",
        "    except:\n",
        "      continue\n",
        "    break\n",
        "  \n",
        "  del app\n",
        "  break\n",
        "  # maps[key] = {\"link\": value, \"last_pub\":time}\n",
        "  # del time"
      ],
      "execution_count": 5,
      "outputs": [
        {
          "output_type": "stream",
          "name": "stderr",
          "text": "0%|          | 0/53 [00:07<?, ?it/s]\n"
        }
      ]
    },
    {
      "cell_type": "code",
      "execution_count": 6,
      "metadata": {},
      "outputs": [
        {
          "output_type": "execute_result",
          "data": {
            "text/plain": "{'acknowledged': True}"
          },
          "metadata": {},
          "execution_count": 6
        }
      ],
      "source": [
        "es.indices.delete(index = \"news\")"
      ]
    }
  ]
}