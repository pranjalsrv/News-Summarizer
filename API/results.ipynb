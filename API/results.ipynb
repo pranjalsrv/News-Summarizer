{
 "cells": [
  {
   "cell_type": "code",
   "execution_count": 1,
   "metadata": {},
   "outputs": [],
   "source": [
    "import torch\n",
    "import requests\n",
    "\n",
    "from bs4 import BeautifulSoup\n",
    "from transformers import T5Tokenizer,T5ForConditionalGeneration"
   ]
  },
  {
   "cell_type": "code",
   "execution_count": 2,
   "metadata": {},
   "outputs": [
    {
     "name": "stderr",
     "output_type": "stream",
     "text": [
      "Some weights of T5ForConditionalGeneration were not initialized from the model checkpoint at t5-base and are newly initialized: ['encoder.embed_tokens.weight', 'decoder.embed_tokens.weight', 'lm_head.weight']\n",
      "You should probably TRAIN this model on a down-stream task to be able to use it for predictions and inference.\n"
     ]
    }
   ],
   "source": [
    "device = torch.device(\"cuda\" if torch.cuda.is_available() else \"cpu\")\n",
    "\n",
    "model = T5ForConditionalGeneration.from_pretrained('t5-base').to(device)\n",
    "tokenizer = T5Tokenizer.from_pretrained('t5-base')\n",
    "\n",
    "def preprocess_text(url):\n",
    "    response = requests.get(url)\n",
    "    content = response.content\n",
    "    soup_article = BeautifulSoup(content, \"html5lib\")\n",
    "    body = soup_article.find_all(\"div\", class_ = None)\n",
    "    s = \"\"\n",
    "    for i in body:\n",
    "        s+=i.text\n",
    "    return s\n",
    "\n",
    "def summarize(text):\n",
    "    t5_prep = \"summarize: \" + str(text).strip().replace(\"\\n\", \"\")\n",
    "    tokenized_text = tokenizer.encode(t5_prep, max_length = len(t5_prep), return_tensors = \"pt\", truncation = True).to(device)\n",
    "    summary_ids = model.generate(tokenized_text, num_beams = 4,\n",
    "                                 no_repeat_ngram_size = 2,\n",
    "                                 min_length = 120,\n",
    "                                 max_length = 350,\n",
    "                                 early_stopping = True)\n",
    "    output = tokenizer.decode(summary_ids[0].to(device), skip_special_tokens = True)\n",
    "    return output"
   ]
  },
  {
   "cell_type": "code",
   "execution_count": 5,
   "metadata": {
    "scrolled": true
   },
   "outputs": [],
   "source": [
    "url = \"https://timesofindia.indiatimes.com/india/lac-stand-off-india-china-hope-to-pull-back-from-brink-in-likely-meeting/articleshow/78027119.cms\""
   ]
  },
  {
   "cell_type": "code",
   "execution_count": 6,
   "metadata": {},
   "outputs": [
    {
     "data": {
      "text/plain": [
       "'India and China will look to pull back from the brink of military conflict in a likely meeting between foreign minister S Jaishankar and his Chinese counterpart Wang Yi on the margins of SCO in Moscow Thursday. while the Chinese foreign ministry didn\\'t confirm the meeting, Chinese sources here said it was expected, even if there was \"no confirmed information\" the trilateral could help break the ice ahead of what will be the first in-person bilateral meeting in India after the ongoing military standoff was reported in May.\\'- gragra '"
      ]
     },
     "execution_count": 6,
     "metadata": {},
     "output_type": "execute_result"
    }
   ],
   "source": [
    "summarize(preprocess_text(url))"
   ]
  }
 ],
 "metadata": {
  "kernelspec": {
   "display_name": "Python 3",
   "language": "python",
   "name": "python3"
  },
  "language_info": {
   "codemirror_mode": {
    "name": "ipython",
    "version": 3
   },
   "file_extension": ".py",
   "mimetype": "text/x-python",
   "name": "python",
   "nbconvert_exporter": "python",
   "pygments_lexer": "ipython3",
   "version": "3.8.3"
  }
 },
 "nbformat": 4,
 "nbformat_minor": 4
}
