{
 "cells": [
  {
   "cell_type": "code",
   "execution_count": 1,
   "metadata": {
    "colab": {
     "base_uri": "https://localhost:8080/",
     "height": 154
    },
    "colab_type": "code",
    "id": "3eDsBg2s7mK2",
    "outputId": "07fcd72c-d841-4e66-f15d-493a0c35fc61"
   },
   "outputs": [],
   "source": [
    "import json\n",
    "import torch\n",
    "import transformers\n",
    "\n",
    "import tensorflow_datasets as tfds\n",
    "\n",
    "from rouge_score import rouge_scorer"
   ]
  },
  {
   "cell_type": "code",
   "execution_count": 2,
   "metadata": {},
   "outputs": [
    {
     "name": "stderr",
     "output_type": "stream",
     "text": [
      "INFO:absl:No config specified, defaulting to first: cnn_dailymail/plain_text\n",
      "INFO:absl:Overwrite dataset info from restored data version.\n",
      "INFO:absl:Reusing dataset cnn_dailymail (/home/tanmay/tensorflow_datasets/cnn_dailymail/plain_text/0.0.2)\n",
      "INFO:absl:Constructing tf.data.Dataset for split test, from /home/tanmay/tensorflow_datasets/cnn_dailymail/plain_text/0.0.2\n"
     ]
    }
   ],
   "source": [
    "# Get the CNN/DailyMail dataset\n",
    "ds,info = tfds.load(\"cnn_dailymail\", split = \"test\", with_info = True)"
   ]
  },
  {
   "cell_type": "code",
   "execution_count": 3,
   "metadata": {
    "colab": {},
    "colab_type": "code",
    "id": "4L6kNrTe0Zz7"
   },
   "outputs": [],
   "source": [
    "def get_rouge(model, tokenizer, key, ds, batch_size = 64, min_length = 210, max_length = 500, device = \"cpu\", epochs = 1):\n",
    "    '''Calculates the rouge score of a model on the given dataset\n",
    "\n",
    "    args\n",
    "    model: The model to be tested\n",
    "    tokenizer: tokenizer for the model to be tested\n",
    "    key: The rouge score we want i.e rouge-1,rouge-2,rouge-L etc.\n",
    "    ds: dataset from tensorflow.datasets\n",
    "    batch_size: size of batch to be extracted\n",
    "    min_length: Minimum length of the output summary\n",
    "    max_length: Maximum length of the output summary\n",
    "    device: cuda or cpu\n",
    "\n",
    "    returns:\n",
    "    precision: ratio of number of overlapping words in output and reference summary to number of words in output summary\n",
    "    recall: ratio of number of overlapping words in output and reference summary to number of words in reference summar\n",
    "    fmeasure: harmonic mean of precision and recall\n",
    "    '''\n",
    "    precision = 0.0\n",
    "    recall = 0.0\n",
    "    f1 = 0.0\n",
    "    total_count = 0\n",
    "    epoch = 0\n",
    "    key = key\n",
    "    device = device\n",
    "    ds_batched = ds.batch(batch_size)\n",
    "    scorer = rouge_scorer.RougeScorer([key])\n",
    "    if(device==\"cuda\"):\n",
    "        model.cuda()\n",
    "    print(\"Starting......\")\n",
    "    for batch in tfds.as_numpy(ds_batched):\n",
    "        if(epoch==epochs):\n",
    "          break\n",
    "        texts,summaries = batch[\"article\"],batch[\"highlights\"]\n",
    "        step = 0\n",
    "        for text,summary in zip(texts,summaries):\n",
    "          preprocessed_txt = str(text).strip().replace(\"\\n\",\"\")\n",
    "          t5_prep = \"summarize: \"+preprocessed_txt\n",
    "          tokenized_text = tokenizer.encode(t5_prep,max_length = len(t5_prep),return_tensors = \"pt\").to(device)\n",
    "          summary_ids = model.generate(tokenized_text,num_beams = 4,\n",
    "                                              no_repeat_ngram_size = 2,\n",
    "                                              min_length = min_length,\n",
    "                                              max_length = max_length,\n",
    "                                              early_stopping = True)\n",
    "          output = tokenizer.decode(summary_ids[0].to(device), skip_special_tokens = True)\n",
    "          if(step%10==0):\n",
    "            print(\"Step: \",step)\n",
    "          step += 1\n",
    "          scores = scorer.score(str(summary),output)\n",
    "          precision += scores[key].precision\n",
    "          recall+= scores[key].recall\n",
    "          f1 += scores[key].fmeasure\n",
    "        total_count += len(texts)\n",
    "        print(\"Average score after, \", total_count, \"epochs\")\n",
    "        print(\"Precision: \",precision/total_count)\n",
    "        print(\"Recall: \",recall/total_count)\n",
    "        print(\"fmeasure \",f1/total_count)\n",
    "        print(scores)\n",
    "        epoch += 1"
   ]
  },
  {
   "cell_type": "code",
   "execution_count": 4,
   "metadata": {
    "colab": {
     "base_uri": "https://localhost:8080/",
     "height": 164,
     "referenced_widgets": [
      "6912995e65974bf8956f9267b293259c",
      "fcc43b0283bd4c0e8182e3a7483368ec",
      "6e8f664a9a894bf592a7e2827edbd203",
      "b18604bdbb0e417ead1ae4c4d5e22d15",
      "be13a974266141a88b6e06094a0da9a6",
      "cc2e8e13a3484b30ac782f95e7994413",
      "2923a6c5008547bbb2058dec46fc66ca",
      "e6ac8ec2b5ef4aff8f634ca6f4f2c9f7",
      "d3b207cfd50e44ecbd7dcd834ea1be13",
      "8d0ffb01ced44050932f7cc24c74ddd9",
      "7a1486ed85324f9c914276fe623d7ec7",
      "3db1451d57914998b34e123326a9ede9",
      "154179a96a3b4baa97a1da97657ad563",
      "2cb84d77c1c7424d83546ddf1622d132",
      "5676abcb1b434d09906d099759bbc458",
      "f0f8ecec20d34f1ab5188725c3cdcd9c",
      "b8470cbacda949d68fa0e0dcd830ffa0",
      "6293f3d1432241949b3d07d12e731733",
      "7015173d910f48b88d7d84db6ea3c584",
      "da66f8f1e5a541e89825017e69143902",
      "40aa2a98c0194c09b60bc4baa749a305",
      "dac162739ded4764a2a0ae7a59860297",
      "7d19f691759642e5a6c4521e2226ae55",
      "3cf9cc11e9af45e39203eaccd763879e"
     ]
    },
    "colab_type": "code",
    "id": "H2R1s4jzASof",
    "outputId": "eef23119-9408-433b-82ed-92880b66cf61"
   },
   "outputs": [],
   "source": [
    "# On T5-Base\n",
    "model = transformers.T5ForConditionalGeneration.from_pretrained('t5-base')\n",
    "tokenizer = transformers.T5Tokenizer.from_pretrained('t5-base')"
   ]
  },
  {
   "cell_type": "code",
   "execution_count": 5,
   "metadata": {
    "colab": {},
    "colab_type": "code",
    "id": "_0P92kf34gWP"
   },
   "outputs": [
    {
     "name": "stdout",
     "output_type": "stream",
     "text": [
      "Starting......\n",
      "Step:  0\n",
      "Step:  10\n",
      "Step:  20\n",
      "Step:  30\n",
      "Step:  40\n",
      "Step:  50\n",
      "Step:  60\n",
      "Step:  70\n",
      "Step:  80\n",
      "Step:  90\n",
      "Step:  100\n",
      "Step:  110\n",
      "Step:  120\n",
      "Average score after,  128 epochs\n",
      "Precision:  0.2891179901212153\n",
      "Recall:  0.47454527065282587\n",
      "fmeasure  0.3462267430901061\n",
      "{'rouge1': Score(precision=0.32051282051282054, recall=0.6578947368421053, fmeasure=0.4310344827586207)}\n"
     ]
    }
   ],
   "source": [
    "get_rouge(model, tokenizer, \"rouge1\", ds, batch_size = 128, device = \"cuda\") "
   ]
  },
  {
   "cell_type": "code",
   "execution_count": 6,
   "metadata": {
    "colab": {},
    "colab_type": "code",
    "id": "LPLKdHIID4WF"
   },
   "outputs": [],
   "source": [
    "# Get summary for exemplar\n",
    "text2 = \"According to the complaint, since 2013 Ang applied for and received $5 million in federal grant money for his work at the University of Arkansas. The U.S. Attorney’s Office said the investigation started when a university employee examined a hard drive in the library’s lost-and-found, trying to find out who owned the device and found emails from Ang. Mr. Ang, 63, was the director of the University of Arkansas’s High Density Electronics Center, which was founded with Defense Department funds. The center made technology for use in the International Space Station, Mr. Ang said in an interview with an electrical engineering trade publication. Mr. Ang’s work also involved power grid security research, said Todd Shields, a dean at Arkansas. He said the university was asked a few months ago to give the federal government information about faculty travel to China but did not know which agency made the request.\""
   ]
  },
  {
   "cell_type": "code",
   "execution_count": 7,
   "metadata": {
    "colab": {},
    "colab_type": "code",
    "id": "nxon1AXhEHSj"
   },
   "outputs": [],
   "source": [
    "preprocessed_txt = text2.strip().replace(\"\\n\",\"\")\n",
    "t5_prep = \"summarize: \" + preprocessed_txt\n",
    "device = \"cuda\"\n",
    "tokenized_text = tokenizer.encode(t5_prep,return_tensors = \"pt\").to(device)\n",
    "summary_ids = model.generate(tokenized_text,num_beams = 4,\n",
    "                                    no_repeat_ngram_size = 2,\n",
    "                                    min_length = 30,\n",
    "                                    max_length = 100,\n",
    "                                    early_stopping = True)\n",
    "summary = tokenizer.decode(summary_ids[0], skip_special_tokens = True)"
   ]
  },
  {
   "cell_type": "code",
   "execution_count": 8,
   "metadata": {
    "colab": {
     "base_uri": "https://localhost:8080/",
     "height": 85
    },
    "colab_type": "code",
    "id": "vmlNF9XILHr6",
    "outputId": "86ebb66f-aac9-49c0-8a73-48e9e995df5f"
   },
   "outputs": [
    {
     "data": {
      "text/plain": [
       "'According to the complaint, since 2013 Ang applied for and received $5 million in federal grant money for his work at the University of Arkansas. The U.S. Attorney’s Office said the investigation started when a university employee examined a hard drive in the library’s lost-and-found, trying to find out who owned the device and found emails from Ang. Mr. Ang, 63, was the director of the University of Arkansas’s High Density Electronics Center, which was founded with Defense Department funds. The center made technology for use in the International Space Station, Mr. Ang said in an interview with an electrical engineering trade publication. Mr. Ang’s work also involved power grid security research, said Todd Shields, a dean at Arkansas. He said the university was asked a few months ago to give the federal government information about faculty travel to China but did not know which agency made the request.'"
      ]
     },
     "execution_count": 8,
     "metadata": {},
     "output_type": "execute_result"
    }
   ],
   "source": [
    "text2"
   ]
  },
  {
   "cell_type": "code",
   "execution_count": 9,
   "metadata": {
    "colab": {
     "base_uri": "https://localhost:8080/",
     "height": 238
    },
    "colab_type": "code",
    "id": "8HK5uMN-LKCH",
    "outputId": "70093d6a-56b6-4fcf-9d25-6d6c78344867"
   },
   "outputs": [
    {
     "data": {
      "text/plain": [
       "\"since 2013 Ang applied for and received $5 million in federal grant money for his work at the University of Arkansas. the investigation started when a university employee examined shard drive in the library's lost-and-found, trying to find out who owned the device and found emails from the director of the university of arkansas.\""
      ]
     },
     "execution_count": 9,
     "metadata": {},
     "output_type": "execute_result"
    }
   ],
   "source": [
    "summary"
   ]
  },
  {
   "cell_type": "code",
   "execution_count": 10,
   "metadata": {},
   "outputs": [],
   "source": [
    "# On T5-11B\n",
    "model = transformers.BartForConditionalGeneration.from_pretrained('facebook/bart-large-cnn')\n",
    "tokenizer = transformers.BartTokenizer.from_pretrained('facebook/bart-large-cnn')"
   ]
  },
  {
   "cell_type": "code",
   "execution_count": 11,
   "metadata": {},
   "outputs": [
    {
     "name": "stdout",
     "output_type": "stream",
     "text": [
      "Starting......\n",
      "Step:  0\n",
      "Step:  10\n",
      "Step:  20\n",
      "Step:  30\n",
      "Step:  40\n",
      "Step:  50\n",
      "Step:  60\n",
      "Step:  70\n",
      "Step:  80\n",
      "Step:  90\n",
      "Step:  100\n",
      "Step:  110\n",
      "Step:  120\n",
      "Average score after,  128 epochs\n",
      "Precision:  0.19631271260743996\n",
      "Recall:  0.6045632142160139\n",
      "fmeasure  0.28874747453289307\n",
      "{'rouge1': Score(precision=0.16993464052287582, recall=0.6842105263157895, fmeasure=0.27225130890052357)}\n"
     ]
    }
   ],
   "source": [
    "get_rouge(model, tokenizer, \"rouge1\", ds, batch_size = 128, device = \"cuda\") "
   ]
  },
  {
   "cell_type": "code",
   "execution_count": 12,
   "metadata": {},
   "outputs": [],
   "source": [
    "preprocessed_txt = text2.strip().replace(\"\\n\",\"\")\n",
    "t5_prep = \"summarize: \" + preprocessed_txt\n",
    "device = \"cuda\"\n",
    "tokenized_text = tokenizer.encode(t5_prep,return_tensors = \"pt\").to(device)\n",
    "summary_ids = model.generate(tokenized_text,num_beams = 4,\n",
    "                                    no_repeat_ngram_size = 2,\n",
    "                                    min_length = 30,\n",
    "                                    max_length = 100,\n",
    "                                    early_stopping = True)\n",
    "summary = tokenizer.decode(summary_ids[0], skip_special_tokens = True)"
   ]
  },
  {
   "cell_type": "code",
   "execution_count": 13,
   "metadata": {},
   "outputs": [
    {
     "data": {
      "text/plain": [
       "'According to the complaint, since 2013 Ang applied for and received $5 million in federal grant money for his work at the University of Arkansas. The U.S. Attorney’s Office said the investigation started when a university employee examined a hard drive in the library’s lost-and-found, trying to find out who owned the device and found emails from Ang. Mr. Ang, 63, was the director of the University of Arkansas’s High Density Electronics Center, which was founded with Defense Department funds. The center made technology for use in the International Space Station, Mr. Ang said in an interview with an electrical engineering trade publication. Mr. Ang’s work also involved power grid security research, said Todd Shields, a dean at Arkansas. He said the university was asked a few months ago to give the federal government information about faculty travel to China but did not know which agency made the request.'"
      ]
     },
     "execution_count": 13,
     "metadata": {},
     "output_type": "execute_result"
    }
   ],
   "source": [
    "text2"
   ]
  },
  {
   "cell_type": "code",
   "execution_count": 14,
   "metadata": {},
   "outputs": [
    {
     "data": {
      "text/plain": [
       "\"The U.S. Attorney's Office said the investigation started when a university employee examined a hard drive in the library’s lost-and-found, trying to find out who owned the device. Mr. Ang, 63, was the director of the High Density Electronics Center, which was founded with Defense Department funds.\""
      ]
     },
     "execution_count": 14,
     "metadata": {},
     "output_type": "execute_result"
    }
   ],
   "source": [
    "summary"
   ]
  },
  {
   "cell_type": "code",
   "execution_count": null,
   "metadata": {
    "colab": {},
    "colab_type": "code",
    "id": "_G16DED2P2F4"
   },
   "outputs": [],
   "source": []
  }
 ],
 "metadata": {
  "accelerator": "GPU",
  "colab": {
   "name": "T5_Summarization.ipynb",
   "provenance": []
  },
  "kernelspec": {
   "display_name": "Python 3",
   "language": "python",
   "name": "python3"
  },
  "language_info": {
   "codemirror_mode": {
    "name": "ipython",
    "version": 3
   },
   "file_extension": ".py",
   "mimetype": "text/x-python",
   "name": "python",
   "nbconvert_exporter": "python",
   "pygments_lexer": "ipython3",
   "version": "3.5.2"
  },
  "widgets": {
   "application/vnd.jupyter.widget-state+json": {
    "154179a96a3b4baa97a1da97657ad563": {
     "model_module": "@jupyter-widgets/controls",
     "model_name": "ProgressStyleModel",
     "state": {
      "_model_module": "@jupyter-widgets/controls",
      "_model_module_version": "1.5.0",
      "_model_name": "ProgressStyleModel",
      "_view_count": null,
      "_view_module": "@jupyter-widgets/base",
      "_view_module_version": "1.2.0",
      "_view_name": "StyleView",
      "bar_color": null,
      "description_width": "initial"
     }
    },
    "2923a6c5008547bbb2058dec46fc66ca": {
     "model_module": "@jupyter-widgets/controls",
     "model_name": "DescriptionStyleModel",
     "state": {
      "_model_module": "@jupyter-widgets/controls",
      "_model_module_version": "1.5.0",
      "_model_name": "DescriptionStyleModel",
      "_view_count": null,
      "_view_module": "@jupyter-widgets/base",
      "_view_module_version": "1.2.0",
      "_view_name": "StyleView",
      "description_width": ""
     }
    },
    "2cb84d77c1c7424d83546ddf1622d132": {
     "model_module": "@jupyter-widgets/base",
     "model_name": "LayoutModel",
     "state": {
      "_model_module": "@jupyter-widgets/base",
      "_model_module_version": "1.2.0",
      "_model_name": "LayoutModel",
      "_view_count": null,
      "_view_module": "@jupyter-widgets/base",
      "_view_module_version": "1.2.0",
      "_view_name": "LayoutView",
      "align_content": null,
      "align_items": null,
      "align_self": null,
      "border": null,
      "bottom": null,
      "display": null,
      "flex": null,
      "flex_flow": null,
      "grid_area": null,
      "grid_auto_columns": null,
      "grid_auto_flow": null,
      "grid_auto_rows": null,
      "grid_column": null,
      "grid_gap": null,
      "grid_row": null,
      "grid_template_areas": null,
      "grid_template_columns": null,
      "grid_template_rows": null,
      "height": null,
      "justify_content": null,
      "justify_items": null,
      "left": null,
      "margin": null,
      "max_height": null,
      "max_width": null,
      "min_height": null,
      "min_width": null,
      "object_fit": null,
      "object_position": null,
      "order": null,
      "overflow": null,
      "overflow_x": null,
      "overflow_y": null,
      "padding": null,
      "right": null,
      "top": null,
      "visibility": null,
      "width": null
     }
    },
    "3cf9cc11e9af45e39203eaccd763879e": {
     "model_module": "@jupyter-widgets/base",
     "model_name": "LayoutModel",
     "state": {
      "_model_module": "@jupyter-widgets/base",
      "_model_module_version": "1.2.0",
      "_model_name": "LayoutModel",
      "_view_count": null,
      "_view_module": "@jupyter-widgets/base",
      "_view_module_version": "1.2.0",
      "_view_name": "LayoutView",
      "align_content": null,
      "align_items": null,
      "align_self": null,
      "border": null,
      "bottom": null,
      "display": null,
      "flex": null,
      "flex_flow": null,
      "grid_area": null,
      "grid_auto_columns": null,
      "grid_auto_flow": null,
      "grid_auto_rows": null,
      "grid_column": null,
      "grid_gap": null,
      "grid_row": null,
      "grid_template_areas": null,
      "grid_template_columns": null,
      "grid_template_rows": null,
      "height": null,
      "justify_content": null,
      "justify_items": null,
      "left": null,
      "margin": null,
      "max_height": null,
      "max_width": null,
      "min_height": null,
      "min_width": null,
      "object_fit": null,
      "object_position": null,
      "order": null,
      "overflow": null,
      "overflow_x": null,
      "overflow_y": null,
      "padding": null,
      "right": null,
      "top": null,
      "visibility": null,
      "width": null
     }
    },
    "3db1451d57914998b34e123326a9ede9": {
     "model_module": "@jupyter-widgets/controls",
     "model_name": "HTMLModel",
     "state": {
      "_dom_classes": [],
      "_model_module": "@jupyter-widgets/controls",
      "_model_module_version": "1.5.0",
      "_model_name": "HTMLModel",
      "_view_count": null,
      "_view_module": "@jupyter-widgets/controls",
      "_view_module_version": "1.5.0",
      "_view_name": "HTMLView",
      "description": "",
      "description_tooltip": null,
      "layout": "IPY_MODEL_f0f8ecec20d34f1ab5188725c3cdcd9c",
      "placeholder": "​",
      "style": "IPY_MODEL_5676abcb1b434d09906d099759bbc458",
      "value": " 892M/892M [00:18&lt;00:00, 47.0MB/s]"
     }
    },
    "40aa2a98c0194c09b60bc4baa749a305": {
     "model_module": "@jupyter-widgets/controls",
     "model_name": "ProgressStyleModel",
     "state": {
      "_model_module": "@jupyter-widgets/controls",
      "_model_module_version": "1.5.0",
      "_model_name": "ProgressStyleModel",
      "_view_count": null,
      "_view_module": "@jupyter-widgets/base",
      "_view_module_version": "1.2.0",
      "_view_name": "StyleView",
      "bar_color": null,
      "description_width": "initial"
     }
    },
    "5676abcb1b434d09906d099759bbc458": {
     "model_module": "@jupyter-widgets/controls",
     "model_name": "DescriptionStyleModel",
     "state": {
      "_model_module": "@jupyter-widgets/controls",
      "_model_module_version": "1.5.0",
      "_model_name": "DescriptionStyleModel",
      "_view_count": null,
      "_view_module": "@jupyter-widgets/base",
      "_view_module_version": "1.2.0",
      "_view_name": "StyleView",
      "description_width": ""
     }
    },
    "6293f3d1432241949b3d07d12e731733": {
     "model_module": "@jupyter-widgets/base",
     "model_name": "LayoutModel",
     "state": {
      "_model_module": "@jupyter-widgets/base",
      "_model_module_version": "1.2.0",
      "_model_name": "LayoutModel",
      "_view_count": null,
      "_view_module": "@jupyter-widgets/base",
      "_view_module_version": "1.2.0",
      "_view_name": "LayoutView",
      "align_content": null,
      "align_items": null,
      "align_self": null,
      "border": null,
      "bottom": null,
      "display": null,
      "flex": null,
      "flex_flow": null,
      "grid_area": null,
      "grid_auto_columns": null,
      "grid_auto_flow": null,
      "grid_auto_rows": null,
      "grid_column": null,
      "grid_gap": null,
      "grid_row": null,
      "grid_template_areas": null,
      "grid_template_columns": null,
      "grid_template_rows": null,
      "height": null,
      "justify_content": null,
      "justify_items": null,
      "left": null,
      "margin": null,
      "max_height": null,
      "max_width": null,
      "min_height": null,
      "min_width": null,
      "object_fit": null,
      "object_position": null,
      "order": null,
      "overflow": null,
      "overflow_x": null,
      "overflow_y": null,
      "padding": null,
      "right": null,
      "top": null,
      "visibility": null,
      "width": null
     }
    },
    "6912995e65974bf8956f9267b293259c": {
     "model_module": "@jupyter-widgets/controls",
     "model_name": "HBoxModel",
     "state": {
      "_dom_classes": [],
      "_model_module": "@jupyter-widgets/controls",
      "_model_module_version": "1.5.0",
      "_model_name": "HBoxModel",
      "_view_count": null,
      "_view_module": "@jupyter-widgets/controls",
      "_view_module_version": "1.5.0",
      "_view_name": "HBoxView",
      "box_style": "",
      "children": [
       "IPY_MODEL_6e8f664a9a894bf592a7e2827edbd203",
       "IPY_MODEL_b18604bdbb0e417ead1ae4c4d5e22d15"
      ],
      "layout": "IPY_MODEL_fcc43b0283bd4c0e8182e3a7483368ec"
     }
    },
    "6e8f664a9a894bf592a7e2827edbd203": {
     "model_module": "@jupyter-widgets/controls",
     "model_name": "FloatProgressModel",
     "state": {
      "_dom_classes": [],
      "_model_module": "@jupyter-widgets/controls",
      "_model_module_version": "1.5.0",
      "_model_name": "FloatProgressModel",
      "_view_count": null,
      "_view_module": "@jupyter-widgets/controls",
      "_view_module_version": "1.5.0",
      "_view_name": "ProgressView",
      "bar_style": "success",
      "description": "Downloading: 100%",
      "description_tooltip": null,
      "layout": "IPY_MODEL_cc2e8e13a3484b30ac782f95e7994413",
      "max": 1199,
      "min": 0,
      "orientation": "horizontal",
      "style": "IPY_MODEL_be13a974266141a88b6e06094a0da9a6",
      "value": 1199
     }
    },
    "7015173d910f48b88d7d84db6ea3c584": {
     "model_module": "@jupyter-widgets/controls",
     "model_name": "FloatProgressModel",
     "state": {
      "_dom_classes": [],
      "_model_module": "@jupyter-widgets/controls",
      "_model_module_version": "1.5.0",
      "_model_name": "FloatProgressModel",
      "_view_count": null,
      "_view_module": "@jupyter-widgets/controls",
      "_view_module_version": "1.5.0",
      "_view_name": "ProgressView",
      "bar_style": "success",
      "description": "Downloading: 100%",
      "description_tooltip": null,
      "layout": "IPY_MODEL_dac162739ded4764a2a0ae7a59860297",
      "max": 791656,
      "min": 0,
      "orientation": "horizontal",
      "style": "IPY_MODEL_40aa2a98c0194c09b60bc4baa749a305",
      "value": 791656
     }
    },
    "7a1486ed85324f9c914276fe623d7ec7": {
     "model_module": "@jupyter-widgets/controls",
     "model_name": "FloatProgressModel",
     "state": {
      "_dom_classes": [],
      "_model_module": "@jupyter-widgets/controls",
      "_model_module_version": "1.5.0",
      "_model_name": "FloatProgressModel",
      "_view_count": null,
      "_view_module": "@jupyter-widgets/controls",
      "_view_module_version": "1.5.0",
      "_view_name": "ProgressView",
      "bar_style": "success",
      "description": "Downloading: 100%",
      "description_tooltip": null,
      "layout": "IPY_MODEL_2cb84d77c1c7424d83546ddf1622d132",
      "max": 891691430,
      "min": 0,
      "orientation": "horizontal",
      "style": "IPY_MODEL_154179a96a3b4baa97a1da97657ad563",
      "value": 891691430
     }
    },
    "7d19f691759642e5a6c4521e2226ae55": {
     "model_module": "@jupyter-widgets/controls",
     "model_name": "DescriptionStyleModel",
     "state": {
      "_model_module": "@jupyter-widgets/controls",
      "_model_module_version": "1.5.0",
      "_model_name": "DescriptionStyleModel",
      "_view_count": null,
      "_view_module": "@jupyter-widgets/base",
      "_view_module_version": "1.2.0",
      "_view_name": "StyleView",
      "description_width": ""
     }
    },
    "8d0ffb01ced44050932f7cc24c74ddd9": {
     "model_module": "@jupyter-widgets/base",
     "model_name": "LayoutModel",
     "state": {
      "_model_module": "@jupyter-widgets/base",
      "_model_module_version": "1.2.0",
      "_model_name": "LayoutModel",
      "_view_count": null,
      "_view_module": "@jupyter-widgets/base",
      "_view_module_version": "1.2.0",
      "_view_name": "LayoutView",
      "align_content": null,
      "align_items": null,
      "align_self": null,
      "border": null,
      "bottom": null,
      "display": null,
      "flex": null,
      "flex_flow": null,
      "grid_area": null,
      "grid_auto_columns": null,
      "grid_auto_flow": null,
      "grid_auto_rows": null,
      "grid_column": null,
      "grid_gap": null,
      "grid_row": null,
      "grid_template_areas": null,
      "grid_template_columns": null,
      "grid_template_rows": null,
      "height": null,
      "justify_content": null,
      "justify_items": null,
      "left": null,
      "margin": null,
      "max_height": null,
      "max_width": null,
      "min_height": null,
      "min_width": null,
      "object_fit": null,
      "object_position": null,
      "order": null,
      "overflow": null,
      "overflow_x": null,
      "overflow_y": null,
      "padding": null,
      "right": null,
      "top": null,
      "visibility": null,
      "width": null
     }
    },
    "b18604bdbb0e417ead1ae4c4d5e22d15": {
     "model_module": "@jupyter-widgets/controls",
     "model_name": "HTMLModel",
     "state": {
      "_dom_classes": [],
      "_model_module": "@jupyter-widgets/controls",
      "_model_module_version": "1.5.0",
      "_model_name": "HTMLModel",
      "_view_count": null,
      "_view_module": "@jupyter-widgets/controls",
      "_view_module_version": "1.5.0",
      "_view_name": "HTMLView",
      "description": "",
      "description_tooltip": null,
      "layout": "IPY_MODEL_e6ac8ec2b5ef4aff8f634ca6f4f2c9f7",
      "placeholder": "​",
      "style": "IPY_MODEL_2923a6c5008547bbb2058dec46fc66ca",
      "value": " 1.20k/1.20k [00:00&lt;00:00, 2.83kB/s]"
     }
    },
    "b8470cbacda949d68fa0e0dcd830ffa0": {
     "model_module": "@jupyter-widgets/controls",
     "model_name": "HBoxModel",
     "state": {
      "_dom_classes": [],
      "_model_module": "@jupyter-widgets/controls",
      "_model_module_version": "1.5.0",
      "_model_name": "HBoxModel",
      "_view_count": null,
      "_view_module": "@jupyter-widgets/controls",
      "_view_module_version": "1.5.0",
      "_view_name": "HBoxView",
      "box_style": "",
      "children": [
       "IPY_MODEL_7015173d910f48b88d7d84db6ea3c584",
       "IPY_MODEL_da66f8f1e5a541e89825017e69143902"
      ],
      "layout": "IPY_MODEL_6293f3d1432241949b3d07d12e731733"
     }
    },
    "be13a974266141a88b6e06094a0da9a6": {
     "model_module": "@jupyter-widgets/controls",
     "model_name": "ProgressStyleModel",
     "state": {
      "_model_module": "@jupyter-widgets/controls",
      "_model_module_version": "1.5.0",
      "_model_name": "ProgressStyleModel",
      "_view_count": null,
      "_view_module": "@jupyter-widgets/base",
      "_view_module_version": "1.2.0",
      "_view_name": "StyleView",
      "bar_color": null,
      "description_width": "initial"
     }
    },
    "cc2e8e13a3484b30ac782f95e7994413": {
     "model_module": "@jupyter-widgets/base",
     "model_name": "LayoutModel",
     "state": {
      "_model_module": "@jupyter-widgets/base",
      "_model_module_version": "1.2.0",
      "_model_name": "LayoutModel",
      "_view_count": null,
      "_view_module": "@jupyter-widgets/base",
      "_view_module_version": "1.2.0",
      "_view_name": "LayoutView",
      "align_content": null,
      "align_items": null,
      "align_self": null,
      "border": null,
      "bottom": null,
      "display": null,
      "flex": null,
      "flex_flow": null,
      "grid_area": null,
      "grid_auto_columns": null,
      "grid_auto_flow": null,
      "grid_auto_rows": null,
      "grid_column": null,
      "grid_gap": null,
      "grid_row": null,
      "grid_template_areas": null,
      "grid_template_columns": null,
      "grid_template_rows": null,
      "height": null,
      "justify_content": null,
      "justify_items": null,
      "left": null,
      "margin": null,
      "max_height": null,
      "max_width": null,
      "min_height": null,
      "min_width": null,
      "object_fit": null,
      "object_position": null,
      "order": null,
      "overflow": null,
      "overflow_x": null,
      "overflow_y": null,
      "padding": null,
      "right": null,
      "top": null,
      "visibility": null,
      "width": null
     }
    },
    "d3b207cfd50e44ecbd7dcd834ea1be13": {
     "model_module": "@jupyter-widgets/controls",
     "model_name": "HBoxModel",
     "state": {
      "_dom_classes": [],
      "_model_module": "@jupyter-widgets/controls",
      "_model_module_version": "1.5.0",
      "_model_name": "HBoxModel",
      "_view_count": null,
      "_view_module": "@jupyter-widgets/controls",
      "_view_module_version": "1.5.0",
      "_view_name": "HBoxView",
      "box_style": "",
      "children": [
       "IPY_MODEL_7a1486ed85324f9c914276fe623d7ec7",
       "IPY_MODEL_3db1451d57914998b34e123326a9ede9"
      ],
      "layout": "IPY_MODEL_8d0ffb01ced44050932f7cc24c74ddd9"
     }
    },
    "da66f8f1e5a541e89825017e69143902": {
     "model_module": "@jupyter-widgets/controls",
     "model_name": "HTMLModel",
     "state": {
      "_dom_classes": [],
      "_model_module": "@jupyter-widgets/controls",
      "_model_module_version": "1.5.0",
      "_model_name": "HTMLModel",
      "_view_count": null,
      "_view_module": "@jupyter-widgets/controls",
      "_view_module_version": "1.5.0",
      "_view_name": "HTMLView",
      "description": "",
      "description_tooltip": null,
      "layout": "IPY_MODEL_3cf9cc11e9af45e39203eaccd763879e",
      "placeholder": "​",
      "style": "IPY_MODEL_7d19f691759642e5a6c4521e2226ae55",
      "value": " 792k/792k [00:32&lt;00:00, 24.6kB/s]"
     }
    },
    "dac162739ded4764a2a0ae7a59860297": {
     "model_module": "@jupyter-widgets/base",
     "model_name": "LayoutModel",
     "state": {
      "_model_module": "@jupyter-widgets/base",
      "_model_module_version": "1.2.0",
      "_model_name": "LayoutModel",
      "_view_count": null,
      "_view_module": "@jupyter-widgets/base",
      "_view_module_version": "1.2.0",
      "_view_name": "LayoutView",
      "align_content": null,
      "align_items": null,
      "align_self": null,
      "border": null,
      "bottom": null,
      "display": null,
      "flex": null,
      "flex_flow": null,
      "grid_area": null,
      "grid_auto_columns": null,
      "grid_auto_flow": null,
      "grid_auto_rows": null,
      "grid_column": null,
      "grid_gap": null,
      "grid_row": null,
      "grid_template_areas": null,
      "grid_template_columns": null,
      "grid_template_rows": null,
      "height": null,
      "justify_content": null,
      "justify_items": null,
      "left": null,
      "margin": null,
      "max_height": null,
      "max_width": null,
      "min_height": null,
      "min_width": null,
      "object_fit": null,
      "object_position": null,
      "order": null,
      "overflow": null,
      "overflow_x": null,
      "overflow_y": null,
      "padding": null,
      "right": null,
      "top": null,
      "visibility": null,
      "width": null
     }
    },
    "e6ac8ec2b5ef4aff8f634ca6f4f2c9f7": {
     "model_module": "@jupyter-widgets/base",
     "model_name": "LayoutModel",
     "state": {
      "_model_module": "@jupyter-widgets/base",
      "_model_module_version": "1.2.0",
      "_model_name": "LayoutModel",
      "_view_count": null,
      "_view_module": "@jupyter-widgets/base",
      "_view_module_version": "1.2.0",
      "_view_name": "LayoutView",
      "align_content": null,
      "align_items": null,
      "align_self": null,
      "border": null,
      "bottom": null,
      "display": null,
      "flex": null,
      "flex_flow": null,
      "grid_area": null,
      "grid_auto_columns": null,
      "grid_auto_flow": null,
      "grid_auto_rows": null,
      "grid_column": null,
      "grid_gap": null,
      "grid_row": null,
      "grid_template_areas": null,
      "grid_template_columns": null,
      "grid_template_rows": null,
      "height": null,
      "justify_content": null,
      "justify_items": null,
      "left": null,
      "margin": null,
      "max_height": null,
      "max_width": null,
      "min_height": null,
      "min_width": null,
      "object_fit": null,
      "object_position": null,
      "order": null,
      "overflow": null,
      "overflow_x": null,
      "overflow_y": null,
      "padding": null,
      "right": null,
      "top": null,
      "visibility": null,
      "width": null
     }
    },
    "f0f8ecec20d34f1ab5188725c3cdcd9c": {
     "model_module": "@jupyter-widgets/base",
     "model_name": "LayoutModel",
     "state": {
      "_model_module": "@jupyter-widgets/base",
      "_model_module_version": "1.2.0",
      "_model_name": "LayoutModel",
      "_view_count": null,
      "_view_module": "@jupyter-widgets/base",
      "_view_module_version": "1.2.0",
      "_view_name": "LayoutView",
      "align_content": null,
      "align_items": null,
      "align_self": null,
      "border": null,
      "bottom": null,
      "display": null,
      "flex": null,
      "flex_flow": null,
      "grid_area": null,
      "grid_auto_columns": null,
      "grid_auto_flow": null,
      "grid_auto_rows": null,
      "grid_column": null,
      "grid_gap": null,
      "grid_row": null,
      "grid_template_areas": null,
      "grid_template_columns": null,
      "grid_template_rows": null,
      "height": null,
      "justify_content": null,
      "justify_items": null,
      "left": null,
      "margin": null,
      "max_height": null,
      "max_width": null,
      "min_height": null,
      "min_width": null,
      "object_fit": null,
      "object_position": null,
      "order": null,
      "overflow": null,
      "overflow_x": null,
      "overflow_y": null,
      "padding": null,
      "right": null,
      "top": null,
      "visibility": null,
      "width": null
     }
    },
    "fcc43b0283bd4c0e8182e3a7483368ec": {
     "model_module": "@jupyter-widgets/base",
     "model_name": "LayoutModel",
     "state": {
      "_model_module": "@jupyter-widgets/base",
      "_model_module_version": "1.2.0",
      "_model_name": "LayoutModel",
      "_view_count": null,
      "_view_module": "@jupyter-widgets/base",
      "_view_module_version": "1.2.0",
      "_view_name": "LayoutView",
      "align_content": null,
      "align_items": null,
      "align_self": null,
      "border": null,
      "bottom": null,
      "display": null,
      "flex": null,
      "flex_flow": null,
      "grid_area": null,
      "grid_auto_columns": null,
      "grid_auto_flow": null,
      "grid_auto_rows": null,
      "grid_column": null,
      "grid_gap": null,
      "grid_row": null,
      "grid_template_areas": null,
      "grid_template_columns": null,
      "grid_template_rows": null,
      "height": null,
      "justify_content": null,
      "justify_items": null,
      "left": null,
      "margin": null,
      "max_height": null,
      "max_width": null,
      "min_height": null,
      "min_width": null,
      "object_fit": null,
      "object_position": null,
      "order": null,
      "overflow": null,
      "overflow_x": null,
      "overflow_y": null,
      "padding": null,
      "right": null,
      "top": null,
      "visibility": null,
      "width": null
     }
    }
   }
  }
 },
 "nbformat": 4,
 "nbformat_minor": 1
}
